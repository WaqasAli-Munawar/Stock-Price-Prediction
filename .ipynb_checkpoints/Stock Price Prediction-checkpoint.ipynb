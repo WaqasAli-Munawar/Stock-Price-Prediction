{
 "cells": [
  {
   "cell_type": "markdown",
   "metadata": {},
   "source": [
    "Predicting the stock market is one of the most important applications of Machine Learning in finance. In this project, we will go through a simple Data Science project on Stock Price Prediction using Machine Learning Python."
   ]
  },
  {
   "cell_type": "markdown",
   "metadata": {},
   "source": [
    "At the end of this project, we will learn how to predict stock prices by using the Linear Regression model by implementing the Python programming language."
   ]
  },
  {
   "cell_type": "markdown",
   "metadata": {},
   "source": [
    "### Stock Price Prediction\n",
    "\n",
    "Predicting the stock market has been the bane and goal of investors since its inception. Every day billions of dollars are traded on the stock exchange, and behind every dollar is an investor hoping to make a profit in one way or another.\n",
    "\n",
    "Entire companies rise and fall daily depending on market behaviour. If an investor is able to accurately predict market movements, he offers a tantalizing promise of wealth and influence. \n",
    "\n",
    "Today, so many people are making money staying at home trading in the stock market. It is a plus point for us if we use our experience in the stock market and our machine learning skills for the task of stock price prediction."
   ]
  },
  {
   "cell_type": "code",
   "execution_count": 1,
   "metadata": {},
   "outputs": [],
   "source": [
    "import numpy as np\n",
    "import pandas as pd\n",
    "from sklearn import preprocessing\n",
    "from sklearn.model_selection import train_test_split\n",
    "from sklearn.linear_model import LinearRegression"
   ]
  },
  {
   "cell_type": "markdown",
   "metadata": {},
   "source": [
    "We can downlaod a dataset from [yahoo finance](https://query1.finance.yahoo.com/v7/finance/download/INR=X?period1=1580035828&period2=1611658228&interval=1d&events=history&includeAdjustedClose=true)"
   ]
  },
  {
   "cell_type": "code",
   "execution_count": 2,
   "metadata": {},
   "outputs": [],
   "source": [
    "stock_prices = pd.read_csv(\"prices.csv\")"
   ]
  },
  {
   "cell_type": "code",
   "execution_count": 3,
   "metadata": {},
   "outputs": [
    {
     "name": "stdout",
     "output_type": "stream",
     "text": [
      "<class 'pandas.core.frame.DataFrame'>\n",
      "RangeIndex: 262 entries, 0 to 261\n",
      "Data columns (total 7 columns):\n",
      " #   Column     Non-Null Count  Dtype  \n",
      "---  ------     --------------  -----  \n",
      " 0   Date       262 non-null    object \n",
      " 1   Open       262 non-null    float64\n",
      " 2   High       262 non-null    float64\n",
      " 3   Low        262 non-null    float64\n",
      " 4   Close      262 non-null    float64\n",
      " 5   Adj Close  262 non-null    float64\n",
      " 6   Volume     262 non-null    int64  \n",
      "dtypes: float64(5), int64(1), object(1)\n",
      "memory usage: 14.5+ KB\n"
     ]
    }
   ],
   "source": [
    "stock_prices.info()"
   ]
  },
  {
   "cell_type": "markdown",
   "metadata": {},
   "source": [
    "### Data Preparation\n",
    "\n",
    "Now we will write a function that will prepare the dataset so that we can fit it easily in the Linear Regression model:"
   ]
  },
  {
   "cell_type": "code",
   "execution_count": 4,
   "metadata": {},
   "outputs": [],
   "source": [
    "def prepare_data(df,forecast_col,forecast_out,test_size):\n",
    "    \n",
    "    label = df[forecast_col].shift(-forecast_out) # label with the last 5 rows are nan\n",
    "    label.dropna(inplace=True) # dropping na values\n",
    "    y = np.array(label)  # assigning Y. Converting Series into array\n",
    "    \n",
    "    X = np.array(df[[forecast_col]]) # creating the feature array\n",
    "    X = preprocessing.scale(X) # Normalizing the feature array\n",
    "    \n",
    "    X_lately = X[-forecast_out:] # we want to use this later in the predicting method\n",
    "    X = X[:-forecast_out] # X that will contain the training and testing\n",
    "    \n",
    "    X_train, X_test, Y_train, Y_test = train_test_split(X, y, test_size=test_size, random_state=0) #cross validation\n",
    "\n",
    "    response = [X_train,X_test , Y_train, Y_test , X_lately]\n",
    "    return response"
   ]
  },
  {
   "cell_type": "markdown",
   "metadata": {},
   "source": [
    "Now we need to prepare three input variables as already prepared in the function created above. \n",
    "\n",
    "* We need to declare an input variable mentioning about which column we want to predict. \n",
    "* The next variable we need to declare is how much far we want to predict.\n",
    "* And the last variable that we need to declare is how much should be the size of the test set. \n",
    "\n",
    "Now let’s declare all the variables:"
   ]
  },
  {
   "cell_type": "code",
   "execution_count": 5,
   "metadata": {},
   "outputs": [],
   "source": [
    "forecast_col = 'Close'\n",
    "forecast_out = 5\n",
    "test_size = 0.2"
   ]
  },
  {
   "cell_type": "markdown",
   "metadata": {},
   "source": [
    "### Applying Machine Learning for Stock Price Prediction\n",
    "\n",
    "Now we will split the data and fit into the linear regression model:"
   ]
  },
  {
   "cell_type": "code",
   "execution_count": 6,
   "metadata": {},
   "outputs": [
    {
     "data": {
      "text/plain": [
       "LinearRegression(copy_X=True, fit_intercept=True, n_jobs=None, normalize=False)"
      ]
     },
     "execution_count": 6,
     "metadata": {},
     "output_type": "execute_result"
    }
   ],
   "source": [
    "X_train, X_test, Y_train, Y_test , X_lately =\\\n",
    "prepare_data(stock_prices,forecast_col,forecast_out,test_size); #calling the method were the cross validation and data preperation is in\n",
    "\n",
    "model = LinearRegression() #initializing linear regression model\n",
    "\n",
    "model.fit(X_train,Y_train) #training the linear regression model"
   ]
  },
  {
   "cell_type": "markdown",
   "metadata": {},
   "source": [
    "Now let’s predict the output and have a look at the prices of the stock prices:"
   ]
  },
  {
   "cell_type": "code",
   "execution_count": 7,
   "metadata": {},
   "outputs": [
    {
     "name": "stdout",
     "output_type": "stream",
     "text": [
      "{'test_score': 0.6393027829544529, 'forecast_set': array([73.37040254, 73.12634778, 73.16456803, 73.20017668, 73.10125498])}\n"
     ]
    }
   ],
   "source": [
    "score=model.score(X_test,Y_test) # testing the linear regression model\n",
    "prediction = model.predict(X_lately) #set that will contain the forecasted data\n",
    "\n",
    "response={} # creting json object\n",
    "response['test_score']=score\n",
    "response['forecast_set']=prediction\n",
    "\n",
    "print(response)"
   ]
  },
  {
   "cell_type": "markdown",
   "metadata": {},
   "source": [
    "This is how we can predict the stock prices with Machine Learning by implementing the Linear Regression Model."
   ]
  }
 ],
 "metadata": {
  "kernelspec": {
   "display_name": "Python 3",
   "language": "python",
   "name": "python3"
  },
  "language_info": {
   "codemirror_mode": {
    "name": "ipython",
    "version": 3
   },
   "file_extension": ".py",
   "mimetype": "text/x-python",
   "name": "python",
   "nbconvert_exporter": "python",
   "pygments_lexer": "ipython3",
   "version": "3.7.6"
  }
 },
 "nbformat": 4,
 "nbformat_minor": 4
}
